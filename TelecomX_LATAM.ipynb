{
 "cells": [
  {
   "cell_type": "markdown",
   "id": "17384279",
   "metadata": {},
   "source": [
    "# 🤖 Telecom X - Parte 2: Modelo Predictivo de Churn"
   ]
  },
  {
   "cell_type": "markdown",
   "id": "356e7bae",
   "metadata": {},
   "source": [
    "## Introducción\n",
    "Este *notebook* se enfoca en la segunda fase del proyecto: la construcción de un modelo de machine learning utilizando el conjunto de datos limpio y preparado de la Parte 1. Este estudio ha sido elaborado con el máximo rigor profesional, aplicando los conocimientos y las técnicas adquiridas durante mi formación en Alura Latam. Como en la primera parte, para darle un enfoque didáctico y para transparentar mi razonamiento aplicado, cada una de mis acciones/decisiones; las presentare detallando su:\n",
    "\n",
    "* **Objetivo**,\n",
    "* **Método** y\n",
    "* **Justificación**.\n",
    "\n",
    "El análisis culminará con la selección del mejor modelo y la identificación de las variables más influyentes en su toma de decisiones."
   ]
  },
  {
   "cell_type": "markdown",
   "id": "5a4ebe65",
   "metadata": {},
   "source": [
    "## 🛠️ Preparación de los Datos:"
   ]
  },
  {
   "cell_type": "markdown",
   "id": "c577da3c",
   "metadata": {},
   "source": [
    "### 🎯 1.1. Carga de Librerías y Extracción del Archivo Tratado\n",
    "\n",
    "**Objetivo**: Cargare las librerías esenciales para el modelado y el archivo telecom_churn_cleaned_data.csv que contiene los datos limpios de la Parte 1.\n",
    "\n",
    "**Método**: Importare las librerías de `pandas`, `sklearn`, `imblearn`, etc., y se usará la función `pd.read_csv()` para cargar los datos en un DataFrame.\n",
    "\n",
    "**Justificación**: Este es el punto de partida para asegurar que tenemos las herramientas y los datos correctos listos."
   ]
  },
  {
   "cell_type": "code",
   "execution_count": 13,
   "id": "eb97ecfe",
   "metadata": {},
   "outputs": [
    {
     "name": "stdout",
     "output_type": "stream",
     "text": [
      "Librerías importadas exitosamente.\n",
      "\n",
      "Datos limpios cargados exitosamente.\n",
      "Dimensiones: (7043, 22)\n"
     ]
    },
    {
     "data": {
      "text/html": [
       "<div>\n",
       "<style scoped>\n",
       "    .dataframe tbody tr th:only-of-type {\n",
       "        vertical-align: middle;\n",
       "    }\n",
       "\n",
       "    .dataframe tbody tr th {\n",
       "        vertical-align: top;\n",
       "    }\n",
       "\n",
       "    .dataframe thead th {\n",
       "        text-align: right;\n",
       "    }\n",
       "</style>\n",
       "<table border=\"1\" class=\"dataframe\">\n",
       "  <thead>\n",
       "    <tr style=\"text-align: right;\">\n",
       "      <th></th>\n",
       "      <th>customerID</th>\n",
       "      <th>Churn</th>\n",
       "      <th>gender</th>\n",
       "      <th>SeniorCitizen</th>\n",
       "      <th>Partner</th>\n",
       "      <th>Dependents</th>\n",
       "      <th>tenure</th>\n",
       "      <th>Contract</th>\n",
       "      <th>PaperlessBilling</th>\n",
       "      <th>PaymentMethod</th>\n",
       "      <th>Charges.Monthly</th>\n",
       "      <th>Charges.Total</th>\n",
       "      <th>PhoneService</th>\n",
       "      <th>MultipleLines</th>\n",
       "      <th>InternetService</th>\n",
       "      <th>OnlineSecurity</th>\n",
       "      <th>OnlineBackup</th>\n",
       "      <th>DeviceProtection</th>\n",
       "      <th>TechSupport</th>\n",
       "      <th>StreamingTV</th>\n",
       "      <th>StreamingMovies</th>\n",
       "      <th>Cuentas_Diarias</th>\n",
       "    </tr>\n",
       "  </thead>\n",
       "  <tbody>\n",
       "    <tr>\n",
       "      <th>0</th>\n",
       "      <td>0002-ORFBO</td>\n",
       "      <td>0</td>\n",
       "      <td>1</td>\n",
       "      <td>0</td>\n",
       "      <td>1</td>\n",
       "      <td>1</td>\n",
       "      <td>9</td>\n",
       "      <td>One year</td>\n",
       "      <td>1</td>\n",
       "      <td>Mailed check</td>\n",
       "      <td>65.6</td>\n",
       "      <td>593.30</td>\n",
       "      <td>1</td>\n",
       "      <td>No</td>\n",
       "      <td>DSL</td>\n",
       "      <td>No</td>\n",
       "      <td>Yes</td>\n",
       "      <td>No</td>\n",
       "      <td>Yes</td>\n",
       "      <td>Yes</td>\n",
       "      <td>No</td>\n",
       "      <td>2.16</td>\n",
       "    </tr>\n",
       "    <tr>\n",
       "      <th>1</th>\n",
       "      <td>0003-MKNFE</td>\n",
       "      <td>0</td>\n",
       "      <td>0</td>\n",
       "      <td>0</td>\n",
       "      <td>0</td>\n",
       "      <td>0</td>\n",
       "      <td>9</td>\n",
       "      <td>Month-to-month</td>\n",
       "      <td>0</td>\n",
       "      <td>Mailed check</td>\n",
       "      <td>59.9</td>\n",
       "      <td>542.40</td>\n",
       "      <td>1</td>\n",
       "      <td>Yes</td>\n",
       "      <td>DSL</td>\n",
       "      <td>No</td>\n",
       "      <td>No</td>\n",
       "      <td>No</td>\n",
       "      <td>No</td>\n",
       "      <td>No</td>\n",
       "      <td>Yes</td>\n",
       "      <td>1.97</td>\n",
       "    </tr>\n",
       "    <tr>\n",
       "      <th>2</th>\n",
       "      <td>0004-TLHLJ</td>\n",
       "      <td>1</td>\n",
       "      <td>0</td>\n",
       "      <td>0</td>\n",
       "      <td>0</td>\n",
       "      <td>0</td>\n",
       "      <td>4</td>\n",
       "      <td>Month-to-month</td>\n",
       "      <td>1</td>\n",
       "      <td>Electronic check</td>\n",
       "      <td>73.9</td>\n",
       "      <td>280.85</td>\n",
       "      <td>1</td>\n",
       "      <td>No</td>\n",
       "      <td>Fiber optic</td>\n",
       "      <td>No</td>\n",
       "      <td>No</td>\n",
       "      <td>Yes</td>\n",
       "      <td>No</td>\n",
       "      <td>No</td>\n",
       "      <td>No</td>\n",
       "      <td>2.43</td>\n",
       "    </tr>\n",
       "    <tr>\n",
       "      <th>3</th>\n",
       "      <td>0011-IGKFF</td>\n",
       "      <td>1</td>\n",
       "      <td>0</td>\n",
       "      <td>1</td>\n",
       "      <td>1</td>\n",
       "      <td>0</td>\n",
       "      <td>13</td>\n",
       "      <td>Month-to-month</td>\n",
       "      <td>1</td>\n",
       "      <td>Electronic check</td>\n",
       "      <td>98.0</td>\n",
       "      <td>1237.85</td>\n",
       "      <td>1</td>\n",
       "      <td>No</td>\n",
       "      <td>Fiber optic</td>\n",
       "      <td>No</td>\n",
       "      <td>Yes</td>\n",
       "      <td>Yes</td>\n",
       "      <td>No</td>\n",
       "      <td>Yes</td>\n",
       "      <td>Yes</td>\n",
       "      <td>3.22</td>\n",
       "    </tr>\n",
       "    <tr>\n",
       "      <th>4</th>\n",
       "      <td>0013-EXCHZ</td>\n",
       "      <td>1</td>\n",
       "      <td>1</td>\n",
       "      <td>1</td>\n",
       "      <td>1</td>\n",
       "      <td>0</td>\n",
       "      <td>3</td>\n",
       "      <td>Month-to-month</td>\n",
       "      <td>1</td>\n",
       "      <td>Mailed check</td>\n",
       "      <td>83.9</td>\n",
       "      <td>267.40</td>\n",
       "      <td>1</td>\n",
       "      <td>No</td>\n",
       "      <td>Fiber optic</td>\n",
       "      <td>No</td>\n",
       "      <td>No</td>\n",
       "      <td>No</td>\n",
       "      <td>Yes</td>\n",
       "      <td>Yes</td>\n",
       "      <td>No</td>\n",
       "      <td>2.76</td>\n",
       "    </tr>\n",
       "  </tbody>\n",
       "</table>\n",
       "</div>"
      ],
      "text/plain": [
       "   customerID  Churn  gender  SeniorCitizen  Partner  Dependents  tenure  \\\n",
       "0  0002-ORFBO      0       1              0        1           1       9   \n",
       "1  0003-MKNFE      0       0              0        0           0       9   \n",
       "2  0004-TLHLJ      1       0              0        0           0       4   \n",
       "3  0011-IGKFF      1       0              1        1           0      13   \n",
       "4  0013-EXCHZ      1       1              1        1           0       3   \n",
       "\n",
       "         Contract  PaperlessBilling     PaymentMethod  Charges.Monthly  \\\n",
       "0        One year                 1      Mailed check             65.6   \n",
       "1  Month-to-month                 0      Mailed check             59.9   \n",
       "2  Month-to-month                 1  Electronic check             73.9   \n",
       "3  Month-to-month                 1  Electronic check             98.0   \n",
       "4  Month-to-month                 1      Mailed check             83.9   \n",
       "\n",
       "   Charges.Total  PhoneService MultipleLines InternetService OnlineSecurity  \\\n",
       "0         593.30             1            No             DSL             No   \n",
       "1         542.40             1           Yes             DSL             No   \n",
       "2         280.85             1            No     Fiber optic             No   \n",
       "3        1237.85             1            No     Fiber optic             No   \n",
       "4         267.40             1            No     Fiber optic             No   \n",
       "\n",
       "  OnlineBackup DeviceProtection TechSupport StreamingTV StreamingMovies  \\\n",
       "0          Yes               No         Yes         Yes              No   \n",
       "1           No               No          No          No             Yes   \n",
       "2           No              Yes          No          No              No   \n",
       "3          Yes              Yes          No         Yes             Yes   \n",
       "4           No               No         Yes         Yes              No   \n",
       "\n",
       "   Cuentas_Diarias  \n",
       "0             2.16  \n",
       "1             1.97  \n",
       "2             2.43  \n",
       "3             3.22  \n",
       "4             2.76  "
      ]
     },
     "execution_count": 13,
     "metadata": {},
     "output_type": "execute_result"
    }
   ],
   "source": [
    "import pandas as pd\n",
    "import numpy as np\n",
    "import plotly.express as px\n",
    "import plotly.graph_objects as go\n",
    "import seaborn as sns\n",
    "import matplotlib.pyplot as plt\n",
    "\n",
    "# Herramientas de Modelado y Preprocesamiento\n",
    "from sklearn.model_selection import train_test_split\n",
    "from sklearn.preprocessing import StandardScaler\n",
    "from sklearn.linear_model import LogisticRegression\n",
    "from sklearn.ensemble import RandomForestClassifier\n",
    "from sklearn.metrics import classification_report, confusion_matrix\n",
    "\n",
    "# Manejo de Desbalance\n",
    "from imblearn.over_sampling import SMOTE\n",
    "\n",
    "# Configuraciones\n",
    "pd.set_option('display.max_columns', None)\n",
    "import warnings\n",
    "warnings.filterwarnings('ignore')\n",
    "\n",
    "print(\"Librerías importadas exitosamente.\")\n",
    "\n",
    "# Cargar el dataset\n",
    "try:\n",
    "    df = pd.read_csv('telecom_churn_cleaned_data.csv')\n",
    "    print(\"\\nDatos limpios cargados exitosamente.\")\n",
    "    print(\"Dimensiones:\", df.shape)\n",
    "except FileNotFoundError:\n",
    "    print(\"Error: Asegúrate de que el archivo 'telecom_churn_cleaned_data.csv' esté en el mismo directorio.\")\n",
    "\n",
    "df.head()"
   ]
  },
  {
   "cell_type": "markdown",
   "id": "04734f88",
   "metadata": {},
   "source": [
    "### 🎯 1.2. Eliminación de Columnas Irrelevantes\n",
    "\n",
    "**Objetivo**: Eliminar la columna `customerID` del DataFrame.\n",
    "\n",
    "**Método**: Se utilizará el método `.drop()` de `Pandas`, especificando`axis=1` para indicar que es una columna.\n",
    "\n",
    "**Justificación**: La columna `customerID` no contiene información sobre el comportamiento del cliente y su inclusión podría introducir ruido."
   ]
  },
  {
   "cell_type": "code",
   "execution_count": 15,
   "id": "e3c0d235",
   "metadata": {},
   "outputs": [
    {
     "name": "stdout",
     "output_type": "stream",
     "text": [
      "Columna 'customerID' eliminada. Nuevas dimensiones: (7043, 21)\n"
     ]
    },
    {
     "data": {
      "text/html": [
       "<div>\n",
       "<style scoped>\n",
       "    .dataframe tbody tr th:only-of-type {\n",
       "        vertical-align: middle;\n",
       "    }\n",
       "\n",
       "    .dataframe tbody tr th {\n",
       "        vertical-align: top;\n",
       "    }\n",
       "\n",
       "    .dataframe thead th {\n",
       "        text-align: right;\n",
       "    }\n",
       "</style>\n",
       "<table border=\"1\" class=\"dataframe\">\n",
       "  <thead>\n",
       "    <tr style=\"text-align: right;\">\n",
       "      <th></th>\n",
       "      <th>Churn</th>\n",
       "      <th>gender</th>\n",
       "      <th>SeniorCitizen</th>\n",
       "      <th>Partner</th>\n",
       "      <th>Dependents</th>\n",
       "      <th>tenure</th>\n",
       "      <th>Contract</th>\n",
       "      <th>PaperlessBilling</th>\n",
       "      <th>PaymentMethod</th>\n",
       "      <th>Charges.Monthly</th>\n",
       "      <th>Charges.Total</th>\n",
       "      <th>PhoneService</th>\n",
       "      <th>MultipleLines</th>\n",
       "      <th>InternetService</th>\n",
       "      <th>OnlineSecurity</th>\n",
       "      <th>OnlineBackup</th>\n",
       "      <th>DeviceProtection</th>\n",
       "      <th>TechSupport</th>\n",
       "      <th>StreamingTV</th>\n",
       "      <th>StreamingMovies</th>\n",
       "      <th>Cuentas_Diarias</th>\n",
       "    </tr>\n",
       "  </thead>\n",
       "  <tbody>\n",
       "    <tr>\n",
       "      <th>0</th>\n",
       "      <td>0</td>\n",
       "      <td>1</td>\n",
       "      <td>0</td>\n",
       "      <td>1</td>\n",
       "      <td>1</td>\n",
       "      <td>9</td>\n",
       "      <td>One year</td>\n",
       "      <td>1</td>\n",
       "      <td>Mailed check</td>\n",
       "      <td>65.6</td>\n",
       "      <td>593.30</td>\n",
       "      <td>1</td>\n",
       "      <td>No</td>\n",
       "      <td>DSL</td>\n",
       "      <td>No</td>\n",
       "      <td>Yes</td>\n",
       "      <td>No</td>\n",
       "      <td>Yes</td>\n",
       "      <td>Yes</td>\n",
       "      <td>No</td>\n",
       "      <td>2.16</td>\n",
       "    </tr>\n",
       "    <tr>\n",
       "      <th>1</th>\n",
       "      <td>0</td>\n",
       "      <td>0</td>\n",
       "      <td>0</td>\n",
       "      <td>0</td>\n",
       "      <td>0</td>\n",
       "      <td>9</td>\n",
       "      <td>Month-to-month</td>\n",
       "      <td>0</td>\n",
       "      <td>Mailed check</td>\n",
       "      <td>59.9</td>\n",
       "      <td>542.40</td>\n",
       "      <td>1</td>\n",
       "      <td>Yes</td>\n",
       "      <td>DSL</td>\n",
       "      <td>No</td>\n",
       "      <td>No</td>\n",
       "      <td>No</td>\n",
       "      <td>No</td>\n",
       "      <td>No</td>\n",
       "      <td>Yes</td>\n",
       "      <td>1.97</td>\n",
       "    </tr>\n",
       "    <tr>\n",
       "      <th>2</th>\n",
       "      <td>1</td>\n",
       "      <td>0</td>\n",
       "      <td>0</td>\n",
       "      <td>0</td>\n",
       "      <td>0</td>\n",
       "      <td>4</td>\n",
       "      <td>Month-to-month</td>\n",
       "      <td>1</td>\n",
       "      <td>Electronic check</td>\n",
       "      <td>73.9</td>\n",
       "      <td>280.85</td>\n",
       "      <td>1</td>\n",
       "      <td>No</td>\n",
       "      <td>Fiber optic</td>\n",
       "      <td>No</td>\n",
       "      <td>No</td>\n",
       "      <td>Yes</td>\n",
       "      <td>No</td>\n",
       "      <td>No</td>\n",
       "      <td>No</td>\n",
       "      <td>2.43</td>\n",
       "    </tr>\n",
       "    <tr>\n",
       "      <th>3</th>\n",
       "      <td>1</td>\n",
       "      <td>0</td>\n",
       "      <td>1</td>\n",
       "      <td>1</td>\n",
       "      <td>0</td>\n",
       "      <td>13</td>\n",
       "      <td>Month-to-month</td>\n",
       "      <td>1</td>\n",
       "      <td>Electronic check</td>\n",
       "      <td>98.0</td>\n",
       "      <td>1237.85</td>\n",
       "      <td>1</td>\n",
       "      <td>No</td>\n",
       "      <td>Fiber optic</td>\n",
       "      <td>No</td>\n",
       "      <td>Yes</td>\n",
       "      <td>Yes</td>\n",
       "      <td>No</td>\n",
       "      <td>Yes</td>\n",
       "      <td>Yes</td>\n",
       "      <td>3.22</td>\n",
       "    </tr>\n",
       "    <tr>\n",
       "      <th>4</th>\n",
       "      <td>1</td>\n",
       "      <td>1</td>\n",
       "      <td>1</td>\n",
       "      <td>1</td>\n",
       "      <td>0</td>\n",
       "      <td>3</td>\n",
       "      <td>Month-to-month</td>\n",
       "      <td>1</td>\n",
       "      <td>Mailed check</td>\n",
       "      <td>83.9</td>\n",
       "      <td>267.40</td>\n",
       "      <td>1</td>\n",
       "      <td>No</td>\n",
       "      <td>Fiber optic</td>\n",
       "      <td>No</td>\n",
       "      <td>No</td>\n",
       "      <td>No</td>\n",
       "      <td>Yes</td>\n",
       "      <td>Yes</td>\n",
       "      <td>No</td>\n",
       "      <td>2.76</td>\n",
       "    </tr>\n",
       "  </tbody>\n",
       "</table>\n",
       "</div>"
      ],
      "text/plain": [
       "   Churn  gender  SeniorCitizen  Partner  Dependents  tenure        Contract  \\\n",
       "0      0       1              0        1           1       9        One year   \n",
       "1      0       0              0        0           0       9  Month-to-month   \n",
       "2      1       0              0        0           0       4  Month-to-month   \n",
       "3      1       0              1        1           0      13  Month-to-month   \n",
       "4      1       1              1        1           0       3  Month-to-month   \n",
       "\n",
       "   PaperlessBilling     PaymentMethod  Charges.Monthly  Charges.Total  \\\n",
       "0                 1      Mailed check             65.6         593.30   \n",
       "1                 0      Mailed check             59.9         542.40   \n",
       "2                 1  Electronic check             73.9         280.85   \n",
       "3                 1  Electronic check             98.0        1237.85   \n",
       "4                 1      Mailed check             83.9         267.40   \n",
       "\n",
       "   PhoneService MultipleLines InternetService OnlineSecurity OnlineBackup  \\\n",
       "0             1            No             DSL             No          Yes   \n",
       "1             1           Yes             DSL             No           No   \n",
       "2             1            No     Fiber optic             No           No   \n",
       "3             1            No     Fiber optic             No          Yes   \n",
       "4             1            No     Fiber optic             No           No   \n",
       "\n",
       "  DeviceProtection TechSupport StreamingTV StreamingMovies  Cuentas_Diarias  \n",
       "0               No         Yes         Yes              No             2.16  \n",
       "1               No          No          No             Yes             1.97  \n",
       "2              Yes          No          No              No             2.43  \n",
       "3              Yes          No         Yes             Yes             3.22  \n",
       "4               No         Yes         Yes              No             2.76  "
      ]
     },
     "execution_count": 15,
     "metadata": {},
     "output_type": "execute_result"
    }
   ],
   "source": [
    "# Eliminación de la columna 'customerID'\n",
    "df.drop('customerID', axis=1, inplace=True)\n",
    "\n",
    "print(\"Columna 'customerID' eliminada. Nuevas dimensiones:\", df.shape)\n",
    "df.head()"
   ]
  },
  {
   "cell_type": "markdown",
   "id": "8ed2c011",
   "metadata": {},
   "source": [
    "### 🎯 1.3. Encoding\n",
    "\n",
    "**Objetivo**: Transformar todas las variables categóricas de texto a un formato numérico para que sean compatibles con los algoritmos de machine learning.\n",
    "\n",
    "**Método**: Aplicare la técnica de `One-Hot Encoding` utilizando la función `pd.get_dummies` de `Pandas` con el parámetro `drop_first=True`.\n",
    "\n",
    "**Justificación**: Los modelos de machine learning requieren que todas las variables de entrada sean numéricas. pd.get_dummies es un método directo para crear columnas binarias (0/1) para cada categoría, el uso de drop_first=True es una práctica estándar para evitar la multicolinealidad (información redundante) entre las nuevas columnas generadas, lo cual es beneficioso la Regresión Logística."
   ]
  },
  {
   "cell_type": "code",
   "execution_count": 16,
   "id": "3bfccabf",
   "metadata": {},
   "outputs": [
    {
     "name": "stdout",
     "output_type": "stream",
     "text": [
      "Variables categóricas transformadas a formato numérico.\n",
      "Nuevas dimensiones: (7043, 32)\n",
      "\n",
      "Tipos de datos después del encoding:\n",
      "<class 'pandas.core.frame.DataFrame'>\n",
      "RangeIndex: 7043 entries, 0 to 7042\n",
      "Data columns (total 32 columns):\n",
      " #   Column                                 Non-Null Count  Dtype  \n",
      "---  ------                                 --------------  -----  \n",
      " 0   Churn                                  7043 non-null   int64  \n",
      " 1   gender                                 7043 non-null   int64  \n",
      " 2   SeniorCitizen                          7043 non-null   int64  \n",
      " 3   Partner                                7043 non-null   int64  \n",
      " 4   Dependents                             7043 non-null   int64  \n",
      " 5   tenure                                 7043 non-null   int64  \n",
      " 6   PaperlessBilling                       7043 non-null   int64  \n",
      " 7   Charges.Monthly                        7043 non-null   float64\n",
      " 8   Charges.Total                          7043 non-null   float64\n",
      " 9   PhoneService                           7043 non-null   int64  \n",
      " 10  Cuentas_Diarias                        7043 non-null   float64\n",
      " 11  Contract_One year                      7043 non-null   bool   \n",
      " 12  Contract_Two year                      7043 non-null   bool   \n",
      " 13  PaymentMethod_Credit card (automatic)  7043 non-null   bool   \n",
      " 14  PaymentMethod_Electronic check         7043 non-null   bool   \n",
      " 15  PaymentMethod_Mailed check             7043 non-null   bool   \n",
      " 16  MultipleLines_No phone service         7043 non-null   bool   \n",
      " 17  MultipleLines_Yes                      7043 non-null   bool   \n",
      " 18  InternetService_Fiber optic            7043 non-null   bool   \n",
      " 19  InternetService_No                     7043 non-null   bool   \n",
      " 20  OnlineSecurity_No internet service     7043 non-null   bool   \n",
      " 21  OnlineSecurity_Yes                     7043 non-null   bool   \n",
      " 22  OnlineBackup_No internet service       7043 non-null   bool   \n",
      " 23  OnlineBackup_Yes                       7043 non-null   bool   \n",
      " 24  DeviceProtection_No internet service   7043 non-null   bool   \n",
      " 25  DeviceProtection_Yes                   7043 non-null   bool   \n",
      " 26  TechSupport_No internet service        7043 non-null   bool   \n",
      " 27  TechSupport_Yes                        7043 non-null   bool   \n",
      " 28  StreamingTV_No internet service        7043 non-null   bool   \n",
      " 29  StreamingTV_Yes                        7043 non-null   bool   \n",
      " 30  StreamingMovies_No internet service    7043 non-null   bool   \n",
      " 31  StreamingMovies_Yes                    7043 non-null   bool   \n",
      "dtypes: bool(21), float64(3), int64(8)\n",
      "memory usage: 749.8 KB\n"
     ]
    }
   ],
   "source": [
    "# Aplico One-Hot Encoding\n",
    "df_encoded = pd.get_dummies(df, drop_first=True)\n",
    "\n",
    "print(\"Variables categóricas transformadas a formato numérico.\")\n",
    "print(\"Nuevas dimensiones:\", df_encoded.shape)\n",
    "\n",
    "print(\"\\nTipos de datos después del encoding:\")\n",
    "df_encoded.info()"
   ]
  },
  {
   "cell_type": "markdown",
   "id": "27eba0d9",
   "metadata": {},
   "source": [
    "\n",
    "### 🎯 1.4. Verificación de la Proporción de Cancelación (Churn)\n",
    "\n",
    "**Objetivo**: Calcular y visualizar la proporción de clientes que cancelaron (`Churn`) en relación con los que permanecieron activos para confirmar si existe un desbalance de clases.\n",
    "\n",
    "**Método**: Utilizare el método `.value_counts(normalize=True)` de `Pandas` sobre la columna `Churn` del DataFrame original (df) para obtener los porcentajes de cada clase.\n",
    "\n",
    "**Justificación**: Con esto entendere la distribución de nuestra variable objetivo."
   ]
  },
  {
   "cell_type": "code",
   "execution_count": 20,
   "id": "01e9c0e3",
   "metadata": {},
   "outputs": [
    {
     "name": "stdout",
     "output_type": "stream",
     "text": [
      "Proporción de Clases en la Variable 'Churn':\n",
      "Churn\n",
      "0    73.46\n",
      "1    26.54\n",
      "Name: proportion, dtype: float64\n"
     ]
    },
    {
     "data": {
      "application/vnd.plotly.v1+json": {
       "config": {
        "plotlyServerURL": "https://plot.ly"
       },
       "data": [
        {
         "domain": {
          "x": [
           0,
           1
          ],
          "y": [
           0,
           1
          ]
         },
         "hovertemplate": "label=%{label}<br>value=%{value}<extra></extra>",
         "labels": [
          "No Churn",
          "Churn"
         ],
         "legendgroup": "",
         "name": "",
         "showlegend": true,
         "type": "pie",
         "values": {
          "bdata": "NhRNBw==",
          "dtype": "i2"
         }
        }
       ],
       "layout": {
        "legend": {
         "tracegroupgap": 0
        },
        "piecolorway": [
         "rgb(102, 197, 204)",
         "rgb(246, 207, 113)",
         "rgb(248, 156, 116)",
         "rgb(220, 176, 242)",
         "rgb(135, 197, 95)",
         "rgb(158, 185, 243)",
         "rgb(254, 136, 177)",
         "rgb(201, 219, 116)",
         "rgb(139, 224, 164)",
         "rgb(180, 151, 231)",
         "rgb(179, 179, 179)"
        ],
        "template": {
         "data": {
          "bar": [
           {
            "error_x": {
             "color": "#2a3f5f"
            },
            "error_y": {
             "color": "#2a3f5f"
            },
            "marker": {
             "line": {
              "color": "#E5ECF6",
              "width": 0.5
             },
             "pattern": {
              "fillmode": "overlay",
              "size": 10,
              "solidity": 0.2
             }
            },
            "type": "bar"
           }
          ],
          "barpolar": [
           {
            "marker": {
             "line": {
              "color": "#E5ECF6",
              "width": 0.5
             },
             "pattern": {
              "fillmode": "overlay",
              "size": 10,
              "solidity": 0.2
             }
            },
            "type": "barpolar"
           }
          ],
          "carpet": [
           {
            "aaxis": {
             "endlinecolor": "#2a3f5f",
             "gridcolor": "white",
             "linecolor": "white",
             "minorgridcolor": "white",
             "startlinecolor": "#2a3f5f"
            },
            "baxis": {
             "endlinecolor": "#2a3f5f",
             "gridcolor": "white",
             "linecolor": "white",
             "minorgridcolor": "white",
             "startlinecolor": "#2a3f5f"
            },
            "type": "carpet"
           }
          ],
          "choropleth": [
           {
            "colorbar": {
             "outlinewidth": 0,
             "ticks": ""
            },
            "type": "choropleth"
           }
          ],
          "contour": [
           {
            "colorbar": {
             "outlinewidth": 0,
             "ticks": ""
            },
            "colorscale": [
             [
              0,
              "#0d0887"
             ],
             [
              0.1111111111111111,
              "#46039f"
             ],
             [
              0.2222222222222222,
              "#7201a8"
             ],
             [
              0.3333333333333333,
              "#9c179e"
             ],
             [
              0.4444444444444444,
              "#bd3786"
             ],
             [
              0.5555555555555556,
              "#d8576b"
             ],
             [
              0.6666666666666666,
              "#ed7953"
             ],
             [
              0.7777777777777778,
              "#fb9f3a"
             ],
             [
              0.8888888888888888,
              "#fdca26"
             ],
             [
              1,
              "#f0f921"
             ]
            ],
            "type": "contour"
           }
          ],
          "contourcarpet": [
           {
            "colorbar": {
             "outlinewidth": 0,
             "ticks": ""
            },
            "type": "contourcarpet"
           }
          ],
          "heatmap": [
           {
            "colorbar": {
             "outlinewidth": 0,
             "ticks": ""
            },
            "colorscale": [
             [
              0,
              "#0d0887"
             ],
             [
              0.1111111111111111,
              "#46039f"
             ],
             [
              0.2222222222222222,
              "#7201a8"
             ],
             [
              0.3333333333333333,
              "#9c179e"
             ],
             [
              0.4444444444444444,
              "#bd3786"
             ],
             [
              0.5555555555555556,
              "#d8576b"
             ],
             [
              0.6666666666666666,
              "#ed7953"
             ],
             [
              0.7777777777777778,
              "#fb9f3a"
             ],
             [
              0.8888888888888888,
              "#fdca26"
             ],
             [
              1,
              "#f0f921"
             ]
            ],
            "type": "heatmap"
           }
          ],
          "histogram": [
           {
            "marker": {
             "pattern": {
              "fillmode": "overlay",
              "size": 10,
              "solidity": 0.2
             }
            },
            "type": "histogram"
           }
          ],
          "histogram2d": [
           {
            "colorbar": {
             "outlinewidth": 0,
             "ticks": ""
            },
            "colorscale": [
             [
              0,
              "#0d0887"
             ],
             [
              0.1111111111111111,
              "#46039f"
             ],
             [
              0.2222222222222222,
              "#7201a8"
             ],
             [
              0.3333333333333333,
              "#9c179e"
             ],
             [
              0.4444444444444444,
              "#bd3786"
             ],
             [
              0.5555555555555556,
              "#d8576b"
             ],
             [
              0.6666666666666666,
              "#ed7953"
             ],
             [
              0.7777777777777778,
              "#fb9f3a"
             ],
             [
              0.8888888888888888,
              "#fdca26"
             ],
             [
              1,
              "#f0f921"
             ]
            ],
            "type": "histogram2d"
           }
          ],
          "histogram2dcontour": [
           {
            "colorbar": {
             "outlinewidth": 0,
             "ticks": ""
            },
            "colorscale": [
             [
              0,
              "#0d0887"
             ],
             [
              0.1111111111111111,
              "#46039f"
             ],
             [
              0.2222222222222222,
              "#7201a8"
             ],
             [
              0.3333333333333333,
              "#9c179e"
             ],
             [
              0.4444444444444444,
              "#bd3786"
             ],
             [
              0.5555555555555556,
              "#d8576b"
             ],
             [
              0.6666666666666666,
              "#ed7953"
             ],
             [
              0.7777777777777778,
              "#fb9f3a"
             ],
             [
              0.8888888888888888,
              "#fdca26"
             ],
             [
              1,
              "#f0f921"
             ]
            ],
            "type": "histogram2dcontour"
           }
          ],
          "mesh3d": [
           {
            "colorbar": {
             "outlinewidth": 0,
             "ticks": ""
            },
            "type": "mesh3d"
           }
          ],
          "parcoords": [
           {
            "line": {
             "colorbar": {
              "outlinewidth": 0,
              "ticks": ""
             }
            },
            "type": "parcoords"
           }
          ],
          "pie": [
           {
            "automargin": true,
            "type": "pie"
           }
          ],
          "scatter": [
           {
            "fillpattern": {
             "fillmode": "overlay",
             "size": 10,
             "solidity": 0.2
            },
            "type": "scatter"
           }
          ],
          "scatter3d": [
           {
            "line": {
             "colorbar": {
              "outlinewidth": 0,
              "ticks": ""
             }
            },
            "marker": {
             "colorbar": {
              "outlinewidth": 0,
              "ticks": ""
             }
            },
            "type": "scatter3d"
           }
          ],
          "scattercarpet": [
           {
            "marker": {
             "colorbar": {
              "outlinewidth": 0,
              "ticks": ""
             }
            },
            "type": "scattercarpet"
           }
          ],
          "scattergeo": [
           {
            "marker": {
             "colorbar": {
              "outlinewidth": 0,
              "ticks": ""
             }
            },
            "type": "scattergeo"
           }
          ],
          "scattergl": [
           {
            "marker": {
             "colorbar": {
              "outlinewidth": 0,
              "ticks": ""
             }
            },
            "type": "scattergl"
           }
          ],
          "scattermap": [
           {
            "marker": {
             "colorbar": {
              "outlinewidth": 0,
              "ticks": ""
             }
            },
            "type": "scattermap"
           }
          ],
          "scattermapbox": [
           {
            "marker": {
             "colorbar": {
              "outlinewidth": 0,
              "ticks": ""
             }
            },
            "type": "scattermapbox"
           }
          ],
          "scatterpolar": [
           {
            "marker": {
             "colorbar": {
              "outlinewidth": 0,
              "ticks": ""
             }
            },
            "type": "scatterpolar"
           }
          ],
          "scatterpolargl": [
           {
            "marker": {
             "colorbar": {
              "outlinewidth": 0,
              "ticks": ""
             }
            },
            "type": "scatterpolargl"
           }
          ],
          "scatterternary": [
           {
            "marker": {
             "colorbar": {
              "outlinewidth": 0,
              "ticks": ""
             }
            },
            "type": "scatterternary"
           }
          ],
          "surface": [
           {
            "colorbar": {
             "outlinewidth": 0,
             "ticks": ""
            },
            "colorscale": [
             [
              0,
              "#0d0887"
             ],
             [
              0.1111111111111111,
              "#46039f"
             ],
             [
              0.2222222222222222,
              "#7201a8"
             ],
             [
              0.3333333333333333,
              "#9c179e"
             ],
             [
              0.4444444444444444,
              "#bd3786"
             ],
             [
              0.5555555555555556,
              "#d8576b"
             ],
             [
              0.6666666666666666,
              "#ed7953"
             ],
             [
              0.7777777777777778,
              "#fb9f3a"
             ],
             [
              0.8888888888888888,
              "#fdca26"
             ],
             [
              1,
              "#f0f921"
             ]
            ],
            "type": "surface"
           }
          ],
          "table": [
           {
            "cells": {
             "fill": {
              "color": "#EBF0F8"
             },
             "line": {
              "color": "white"
             }
            },
            "header": {
             "fill": {
              "color": "#C8D4E3"
             },
             "line": {
              "color": "white"
             }
            },
            "type": "table"
           }
          ]
         },
         "layout": {
          "annotationdefaults": {
           "arrowcolor": "#2a3f5f",
           "arrowhead": 0,
           "arrowwidth": 1
          },
          "autotypenumbers": "strict",
          "coloraxis": {
           "colorbar": {
            "outlinewidth": 0,
            "ticks": ""
           }
          },
          "colorscale": {
           "diverging": [
            [
             0,
             "#8e0152"
            ],
            [
             0.1,
             "#c51b7d"
            ],
            [
             0.2,
             "#de77ae"
            ],
            [
             0.3,
             "#f1b6da"
            ],
            [
             0.4,
             "#fde0ef"
            ],
            [
             0.5,
             "#f7f7f7"
            ],
            [
             0.6,
             "#e6f5d0"
            ],
            [
             0.7,
             "#b8e186"
            ],
            [
             0.8,
             "#7fbc41"
            ],
            [
             0.9,
             "#4d9221"
            ],
            [
             1,
             "#276419"
            ]
           ],
           "sequential": [
            [
             0,
             "#0d0887"
            ],
            [
             0.1111111111111111,
             "#46039f"
            ],
            [
             0.2222222222222222,
             "#7201a8"
            ],
            [
             0.3333333333333333,
             "#9c179e"
            ],
            [
             0.4444444444444444,
             "#bd3786"
            ],
            [
             0.5555555555555556,
             "#d8576b"
            ],
            [
             0.6666666666666666,
             "#ed7953"
            ],
            [
             0.7777777777777778,
             "#fb9f3a"
            ],
            [
             0.8888888888888888,
             "#fdca26"
            ],
            [
             1,
             "#f0f921"
            ]
           ],
           "sequentialminus": [
            [
             0,
             "#0d0887"
            ],
            [
             0.1111111111111111,
             "#46039f"
            ],
            [
             0.2222222222222222,
             "#7201a8"
            ],
            [
             0.3333333333333333,
             "#9c179e"
            ],
            [
             0.4444444444444444,
             "#bd3786"
            ],
            [
             0.5555555555555556,
             "#d8576b"
            ],
            [
             0.6666666666666666,
             "#ed7953"
            ],
            [
             0.7777777777777778,
             "#fb9f3a"
            ],
            [
             0.8888888888888888,
             "#fdca26"
            ],
            [
             1,
             "#f0f921"
            ]
           ]
          },
          "colorway": [
           "#636efa",
           "#EF553B",
           "#00cc96",
           "#ab63fa",
           "#FFA15A",
           "#19d3f3",
           "#FF6692",
           "#B6E880",
           "#FF97FF",
           "#FECB52"
          ],
          "font": {
           "color": "#2a3f5f"
          },
          "geo": {
           "bgcolor": "white",
           "lakecolor": "white",
           "landcolor": "#E5ECF6",
           "showlakes": true,
           "showland": true,
           "subunitcolor": "white"
          },
          "hoverlabel": {
           "align": "left"
          },
          "hovermode": "closest",
          "mapbox": {
           "style": "light"
          },
          "paper_bgcolor": "white",
          "plot_bgcolor": "#E5ECF6",
          "polar": {
           "angularaxis": {
            "gridcolor": "white",
            "linecolor": "white",
            "ticks": ""
           },
           "bgcolor": "#E5ECF6",
           "radialaxis": {
            "gridcolor": "white",
            "linecolor": "white",
            "ticks": ""
           }
          },
          "scene": {
           "xaxis": {
            "backgroundcolor": "#E5ECF6",
            "gridcolor": "white",
            "gridwidth": 2,
            "linecolor": "white",
            "showbackground": true,
            "ticks": "",
            "zerolinecolor": "white"
           },
           "yaxis": {
            "backgroundcolor": "#E5ECF6",
            "gridcolor": "white",
            "gridwidth": 2,
            "linecolor": "white",
            "showbackground": true,
            "ticks": "",
            "zerolinecolor": "white"
           },
           "zaxis": {
            "backgroundcolor": "#E5ECF6",
            "gridcolor": "white",
            "gridwidth": 2,
            "linecolor": "white",
            "showbackground": true,
            "ticks": "",
            "zerolinecolor": "white"
           }
          },
          "shapedefaults": {
           "line": {
            "color": "#2a3f5f"
           }
          },
          "ternary": {
           "aaxis": {
            "gridcolor": "white",
            "linecolor": "white",
            "ticks": ""
           },
           "baxis": {
            "gridcolor": "white",
            "linecolor": "white",
            "ticks": ""
           },
           "bgcolor": "#E5ECF6",
           "caxis": {
            "gridcolor": "white",
            "linecolor": "white",
            "ticks": ""
           }
          },
          "title": {
           "x": 0.05
          },
          "xaxis": {
           "automargin": true,
           "gridcolor": "white",
           "linecolor": "white",
           "ticks": "",
           "title": {
            "standoff": 15
           },
           "zerolinecolor": "white",
           "zerolinewidth": 2
          },
          "yaxis": {
           "automargin": true,
           "gridcolor": "white",
           "linecolor": "white",
           "ticks": "",
           "title": {
            "standoff": 15
           },
           "zerolinecolor": "white",
           "zerolinewidth": 2
          }
         }
        },
        "title": {
         "text": "Distribución de Clases Antes del Balanceo"
        }
       }
      }
     },
     "metadata": {},
     "output_type": "display_data"
    }
   ],
   "source": [
    "# Uso el DataFrame 'df' (antes del encoding) para una lectura más clara de la proporción\n",
    "churn_proportion = df['Churn'].value_counts(normalize=True) * 100\n",
    "\n",
    "print(\"Proporción de Clases en la Variable 'Churn':\")\n",
    "print(round(churn_proportion, 2))\n",
    "\n",
    "# Visualización rápida para ilustrar el desbalance\n",
    "fig = px.pie(names=['No Churn', 'Churn'],\n",
    "             values=df['Churn'].value_counts().values,\n",
    "             title='Distribución de Clases Antes del Balanceo',\n",
    "             color_discrete_sequence=px.colors.qualitative.Pastel)\n",
    "fig.show()"
   ]
  },
  {
   "cell_type": "markdown",
   "id": "184060e5",
   "metadata": {},
   "source": [
    "Análisis: Como ya sabiamos, el `~74%` de los clientes no cancelaron, mientras que el `~26%` sí lo hizo.\n",
    "\n"
   ]
  },
  {
   "cell_type": "markdown",
   "id": "ae091468",
   "metadata": {},
   "source": [
    "### 🎯 1.5. Balanceo de Clases\n",
    "\n",
    "**Objetivo**: Corregir el desbalance de clases en nuestro conjunto de datos para asegurar que los modelos de machine learning aprendan de manera equitativa de ambas clases (`Churn` y `No Churn`).\n",
    "\n",
    "**Método**: Aplicare la técnica de sobremuestreo `SMOTE` al DataFrame ya codificado (`df_encoded`).\n",
    "\n",
    "**Justificación**: El balanceo de clases es un paso fundamental para evitar que el modelo se vuelva \"*perezoso*\" y prediga siempre la **clase mayoritaria** para obtener una alta precisión (**accuracy**) engañosa."
   ]
  },
  {
   "cell_type": "code",
   "execution_count": 21,
   "id": "6cafbe6a",
   "metadata": {},
   "outputs": [
    {
     "name": "stdout",
     "output_type": "stream",
     "text": [
      "--- Distribución de Clases ---\n",
      "Dataset original:\n",
      "Churn\n",
      "0    5174\n",
      "1    1869\n",
      "Name: count, dtype: int64\n",
      "\n",
      "Dataset después de SMOTE:\n",
      "Churn\n",
      "0    5174\n",
      "1    5174\n",
      "Name: count, dtype: int64\n",
      "\n",
      "Nuevas dimensiones de X (balanceado): (10348, 31)\n"
     ]
    }
   ],
   "source": [
    "# Separo X e y del dataframe codificado\n",
    "# La columna objetivo es 'Churn', que ya es numérica (0/1) desde la parte 1.\n",
    "X = df_encoded.drop('Churn', axis=1)\n",
    "y = df_encoded['Churn']\n",
    "\n",
    "# SMOTE\n",
    "smote = SMOTE(random_state=42)\n",
    "X_resampled, y_resampled = smote.fit_resample(X, y)\n",
    "\n",
    "print(\"--- Distribución de Clases ---\")\n",
    "print(\"Dataset original:\")\n",
    "print(y.value_counts())\n",
    "print(\"\\nDataset después de SMOTE:\")\n",
    "print(y_resampled.value_counts())\n",
    "print(\"\\nNuevas dimensiones de X (balanceado):\", X_resampled.shape)"
   ]
  },
  {
   "cell_type": "markdown",
   "id": "85960ad5",
   "metadata": {},
   "source": [
    "## 📈 2. Correlación y Selección de Variables"
   ]
  },
  {
   "cell_type": "markdown",
   "id": "ece64501",
   "metadata": {},
   "source": [
    "### 🎯 2.1. Análisis de Correlación\n",
    "\n",
    "**Objetivo**: Identificar las relaciones lineales entre las variables numéricas del dataset, con enfoque en cómo se correlacionan con la variable objetivo, `Churn`.\n",
    "\n",
    "**Método**: Calculare la matriz de correlación de Pearson para el DataFrame balanceado (`X_resampled` y `y_resampled`). Posteriormente, hare una visual de esta matriz como un mapa de calor.\n",
    "\n",
    "**Justificación**: La matriz de correlación nos permite, detectar posible multicolinealidad y nos da una primera idea cuantitativa de qué variables tienen la relación estadística más fuerte."
   ]
  },
  {
   "cell_type": "code",
   "execution_count": 22,
   "id": "bcebce32",
   "metadata": {},
   "outputs": [
    {
     "data": {
      "image/png": "[encoded data removed]",
      "text/plain": [
       "<Figure size 2000x1500 with 2 Axes>"
      ]
     },
     "metadata": {},
     "output_type": "display_data"
    },
    {
     "name": "stdout",
     "output_type": "stream",
     "text": [
      "\n",
      "--- Correlación de Variables con Churn ---\n",
      "Top 10 más correlacionadas positivamente con Churn (tienden a irse):\n",
      "Churn                             1.000000\n",
      "PaymentMethod_Electronic check    0.461117\n",
      "InternetService_Fiber optic       0.378470\n",
      "Charges.Monthly                   0.235592\n",
      "Cuentas_Diarias                   0.235526\n",
      "StreamingTV_Yes                   0.161550\n",
      "StreamingMovies_Yes               0.153767\n",
      "MultipleLines_Yes                 0.143699\n",
      "PaperlessBilling                  0.124900\n",
      "DeviceProtection_Yes              0.031686\n",
      "Name: Churn, dtype: float64\n",
      "\n",
      "Top 10 más correlacionadas negativamente con Churn (tienden a quedarse):\n",
      "InternetService_No                     -0.279966\n",
      "OnlineSecurity_No internet service     -0.279966\n",
      "DeviceProtection_No internet service   -0.279966\n",
      "TechSupport_No internet service        -0.279966\n",
      "StreamingTV_No internet service        -0.279966\n",
      "StreamingMovies_No internet service    -0.279966\n",
      "Partner                                -0.307770\n",
      "Dependents                             -0.307919\n",
      "Contract_Two year                      -0.367156\n",
      "tenure                                 -0.413333\n",
      "Name: Churn, dtype: float64\n"
     ]
    }
   ],
   "source": [
    "# Uno temporalmente X_resampled y y_resampled\n",
    "df_resampled = X_resampled.copy()\n",
    "df_resampled['Churn'] = y_resampled\n",
    "\n",
    "# Calculo la matriz de correlación\n",
    "correlation_matrix = df_resampled.corr()\n",
    "\n",
    "# Mapa de calor\n",
    "plt.figure(figsize=(20, 15))\n",
    "sns.heatmap(correlation_matrix, annot=False, cmap='coolwarm', linewidths=.5)\n",
    "plt.title('Matriz de Correlación de Todas las Variables (Datos Balanceados)')\n",
    "plt.show()\n",
    "\n",
    "# Correlaciones directas con 'Churn'\n",
    "churn_correlation = correlation_matrix['Churn'].sort_values(ascending=False)\n",
    "print(\"\\n--- Correlación de Variables con Churn ---\")\n",
    "print(\"Top 10 más correlacionadas positivamente con Churn (tienden a irse):\")\n",
    "print(churn_correlation.head(10))\n",
    "print(\"\\nTop 10 más correlacionadas negativamente con Churn (tienden a quedarse):\")\n",
    "print(churn_correlation.tail(10))"
   ]
  },
  {
   "cell_type": "markdown",
   "id": "757ad16d",
   "metadata": {},
   "source": [
    "#### 💡 Análisis:\n",
    "\n",
    "Correlaciones Positivas (Factores de Riesgo):\n",
    "\n",
    "* **PaymentMethod_Electronic check** tiene la correlación positiva más fuerte (+0.46). Esto confirma cuantitativamente que el uso de este método de pago es un fuerte indicador de que un cliente podría cancelar.\n",
    "\n",
    "* **InternetService_Fiber optic** (+0.38) y **Charges.Monthly** (+0.24) le siguen, reforzando la idea de que los planes más caros y premium están asociados con un mayor riesgo de evasión.\n",
    "\n",
    "Correlaciones Negativas (Factores de Retención):\n",
    "\n",
    "* **tenure** (antigüedad) tiene la correlación negativa más fuerte (-0.41). Esto confirma que a mayor antigüedad, menor es la probabilidad de cancelación.\n",
    "\n",
    "* **Contract_Two year** (-0.37) es el segundo factor de protección más fuerte, validando que los contratos a largo plazo son clave para la retención de clientes."
   ]
  },
  {
   "cell_type": "markdown",
   "id": "a4d64ad7",
   "metadata": {},
   "source": [
    "### 🎯 2.2. Análisis Dirigido\n",
    "\n",
    "**Objetivo**: Investigar visualmente y con mayor profundidad la relación entre variables específicas como `tenure`, `Charges.Total` y la variable `Churn`.\n",
    "\n",
    "**Método**: Utilizare diagramas de caja (`boxplots`) para comparar la distribución de estas variables numéricas entre los clientes que cancelaron y los que no. Para este análisis visual, usare el dataset original (antes del balanceo con SMOTE) para observar el comportamiento real de los clientes.\n",
    "\n",
    "**Justificación**: Un boxplot puede revelar diferencias claras en la mediana, la dispersión y la presencia de valores atípicos entre los dos grupos de clientes (`Churn` vs. `No Churn`), validando así los hallazgos de mi análisis en la Parte 1."
   ]
  },
  {
   "cell_type": "code",
   "execution_count": 23,
   "id": "41480c05",
   "metadata": {},
   "outputs": [
    {
     "data": {
      "image/png": "[encoded data removed]",
      "text/plain": [
       "<Figure size 1600x700 with 2 Axes>"
      ]
     },
     "metadata": {},
     "output_type": "display_data"
    }
   ],
   "source": [
    "fig, axes = plt.subplots(1, 2, figsize=(16, 7))\n",
    "fig.suptitle('Análisis Dirigido de Variables Clave vs. Churn', fontsize=16)\n",
    "\n",
    "# Boxplot para Tenure vs Churn\n",
    "sns.boxplot(x='Churn', y='tenure', data=df_encoded, ax=axes[0], palette='pastel')\n",
    "axes[0].set_title('Antigüedad (tenure) vs. Cancelación')\n",
    "axes[0].set_xticklabels(['Permanecen (0)', 'Se Van (1)'])\n",
    "axes[0].set_xlabel(\"Estado del Cliente\")\n",
    "axes[0].set_ylabel(\"Antigüedad (Meses)\")\n",
    "\n",
    "\n",
    "# Boxplot para Charges.Total vs Churn\n",
    "sns.boxplot(x='Churn', y='Charges.Total', data=df_encoded, ax=axes[1], palette='pastel')\n",
    "axes[1].set_title('Gasto Total vs. Cancelación')\n",
    "axes[1].set_xticklabels(['Permanecen (0)', 'Se Van (1)'])\n",
    "axes[1].set_xlabel(\"Estado del Cliente\")\n",
    "axes[1].set_ylabel(\"Gasto Total Acumulado ($)\")\n",
    "\n",
    "\n",
    "plt.tight_layout(rect=[0, 0.03, 1, 0.95])\n",
    "plt.show()"
   ]
  },
  {
   "cell_type": "markdown",
   "id": "95a4c763",
   "metadata": {},
   "source": [
    "#### 💡Análisis:\n",
    "\n",
    "Los gráficos confirman visualmente mi hipótesis. \n",
    "Los clientes que se van (`Churn=1`) tienen una antigüedad (`tenure`) mucho menor (la caja es más baja y compacta) y, en consecuencia, un gasto total (`Charges.Total`) acumulado también mucho menor que los clientes que permanecen en la compañía."
   ]
  },
  {
   "cell_type": "markdown",
   "id": "ff4d6ae2",
   "metadata": {},
   "source": [
    "## 🤖 3. Modelado Predictivo"
   ]
  },
  {
   "cell_type": "markdown",
   "id": "8bbdfea9",
   "metadata": {},
   "source": [
    "### 🎯 3.1. Separación de Datos\n",
    "\n",
    "**Objetivo**: Dividir el conjunto de datos (que ya fue balanceado con SMOTE) en un subconjunto para entrenar los modelos y otro para probar su rendimiento.\n",
    "\n",
    "**Método**: Utilizare la función `train_test_split` de la librería `Scikit-learn` y asignare un `80%` de los datos para el conjunto de **entrenamiento** y el `20%` restante para el conjunto de **prueba** y un random_state para asegurar que la división sea siempre la misma si  se vuelve a ejecutar el código.\n",
    "\n",
    "**Justificación**: Este es un paso fundamental y obligatorio en el machine learning para evitar el overfitting (sobreajuste)."
   ]
  },
  {
   "cell_type": "code",
   "execution_count": 24,
   "id": "90d7722b",
   "metadata": {},
   "outputs": [
    {
     "name": "stdout",
     "output_type": "stream",
     "text": [
      "Datos divididos en conjuntos de entrenamiento y prueba.\n",
      "Dimensiones del conjunto de entrenamiento (X_train): (8278, 31)\n",
      "Dimensiones del conjunto de prueba (X_test): (2070, 31)\n"
     ]
    }
   ],
   "source": [
    "# Recordemos que los datos balanceados son X_resampled y y_resampled\n",
    "X_train, X_test, y_train, y_test = train_test_split(\n",
    "    X_resampled,\n",
    "    y_resampled,\n",
    "    test_size=0.20,\n",
    "    random_state=42\n",
    ")\n",
    "\n",
    "print(\"Datos divididos en conjuntos de entrenamiento y prueba.\")\n",
    "print(\"Dimensiones del conjunto de entrenamiento (X_train):\", X_train.shape)\n",
    "print(\"Dimensiones del conjunto de prueba (X_test):\", X_test.shape)"
   ]
  },
  {
   "cell_type": "markdown",
   "id": "b7eca44a",
   "metadata": {},
   "source": [
    "### 🎯 3.2. Creación de Modelos"
   ]
  },
  {
   "cell_type": "markdown",
   "id": "21cf93a6",
   "metadata": {},
   "source": [
    "#### 🤖 Modelo 1: Regresión Logística (con Estandarización)\n",
    "\n",
    "**Objetivo**: Crear, entrenar y evaluar un modelo de Regresión Logística para predecir la evasión de clientes.\n",
    "\n",
    "**Método**: \n",
    "1. Utilizare un `Pipeline` de `Scikit-learn` para encadenar los pasos de **preprocesamiento** y **modelado**.\n",
    "\n",
    "2. El `pipeline` constará de dos etapas: `StandardScaler()` para estandarizar los datos y `LogisticRegression()` para el modelo de clasificación.\n",
    "\n",
    "3. Entrenare el `pipeline` completo con los datos de entrenamiento (`X_train`, `y_train`) y realizare predicciones en los datos de prueba (`X_test`).\n",
    "\n",
    "4. Finalmente, generare el `classification_report` y la `confusion_matrix` para evaluar el rendimiento.\n",
    "\n",
    "**Justificación**: La **Regresión Logística** es un modelo sensible a la escala de las características. La **estandarización** (`StandardScaler`) es un paso que asegura que todas las variables contribuyan de manera justa al modelo y el uso de un `Pipeline` es una buena práctica porque aplica la estandarización aprendiendo de los datos de entrenamiento y luego transformando los de prueba."
   ]
  },
  {
   "cell_type": "code",
   "execution_count": 25,
   "id": "a2f663e2",
   "metadata": {},
   "outputs": [
    {
     "name": "stdout",
     "output_type": "stream",
     "text": [
      "--- Entrenando Modelo: Regresión Logística ---\n",
      "Modelo entrenado.\n",
      "\n",
      "--- Evaluación del Modelo: Regresión Logística ---\n",
      "\n",
      "Reporte de Clasificación:\n",
      "                precision    recall  f1-score   support\n",
      "\n",
      "Permanecen (0)       0.80      0.82      0.81      1027\n",
      "    Se Van (1)       0.82      0.80      0.81      1043\n",
      "\n",
      "      accuracy                           0.81      2070\n",
      "     macro avg       0.81      0.81      0.81      2070\n",
      "  weighted avg       0.81      0.81      0.81      2070\n",
      "\n",
      "\n",
      "Matriz de Confusión:\n"
     ]
    },
    {
     "data": {
      "image/png": "[encoded data removed]",
      "text/plain": [
       "<Figure size 640x480 with 2 Axes>"
      ]
     },
     "metadata": {},
     "output_type": "display_data"
    }
   ],
   "source": [
    "from sklearn.pipeline import Pipeline\n",
    "\n",
    "# 1. Pipeline\n",
    "pipeline_lr = Pipeline([\n",
    "    ('scaler', StandardScaler()),\n",
    "    ('logreg', LogisticRegression(random_state=42))\n",
    "])\n",
    "\n",
    "# 2. Entrenar el pipeline\n",
    "print(\"--- Entrenando Modelo: Regresión Logística ---\")\n",
    "pipeline_lr.fit(X_train, y_train)\n",
    "print(\"Modelo entrenado.\")\n",
    "\n",
    "# 3. Predicciones en el conjunto de prueba\n",
    "y_pred_lr = pipeline_lr.predict(X_test)\n",
    "\n",
    "# 4. Evaluación del modelo\n",
    "print(\"\\n--- Evaluación del Modelo: Regresión Logística ---\")\n",
    "print(\"\\nReporte de Clasificación:\")\n",
    "print(classification_report(y_test, y_pred_lr, target_names=['Permanecen (0)', 'Se Van (1)']))\n",
    "\n",
    "print(\"\\nMatriz de Confusión:\")\n",
    "cm_lr = confusion_matrix(y_test, y_pred_lr)\n",
    "sns.heatmap(cm_lr, annot=True, fmt='d', cmap='Blues', \n",
    "            xticklabels=['Permanecen', 'Se Van'], \n",
    "            yticklabels=['Permanecen', 'Se Van'])\n",
    "plt.title('Matriz de Confusión - Regresión Logística')\n",
    "plt.ylabel('Etiqueta Real')\n",
    "plt.xlabel('Etiqueta Predicha')\n",
    "plt.show()"
   ]
  },
  {
   "cell_type": "markdown",
   "id": "472569da",
   "metadata": {},
   "source": [
    "#### 🤖 Modelo 2: Random Forest (sin Estandarización)\n",
    "\n",
    "**Objetivo**: Crear, entrenar y evaluar un modelo de Random Forest para predecir la evasión de clientes.\n",
    "\n",
    "**Método**: \n",
    "1. Se instanciará el clasificador `RandomForestClassifier`.\n",
    "\n",
    "2. Entrenare directamente con los datos de entrenamiento originales (`X_train`, `y_train`).\n",
    "\n",
    "3. Eealizare predicciones en los datos de prueba (`X_test`).\n",
    "\n",
    "4. Generare visual de el `classification_report` y la `confusion_matrix`.\n",
    "\n",
    "**Justificación**: `Random Forest` es un modelo **basado en ensambles de árboles de decisión**. Como los árboles toman decisiones dividiendo una característica a la vez, **no son sensibles a la escala de los datos**. Por lo tanto, **no requiere estandarización**, lo que simplifica el preprocesamiento."
   ]
  },
  {
   "cell_type": "code",
   "execution_count": 26,
   "id": "d2d38ec0",
   "metadata": {},
   "outputs": [
    {
     "name": "stdout",
     "output_type": "stream",
     "text": [
      "\n",
      "--- Entrenando Modelo: Random Forest ---\n",
      "Modelo entrenado.\n",
      "\n",
      "--- Evaluación del Modelo: Random Forest ---\n",
      "\n",
      "Reporte de Clasificación:\n",
      "                precision    recall  f1-score   support\n",
      "\n",
      "Permanecen (0)       0.84      0.85      0.84      1027\n",
      "    Se Van (1)       0.85      0.84      0.85      1043\n",
      "\n",
      "      accuracy                           0.84      2070\n",
      "     macro avg       0.84      0.84      0.84      2070\n",
      "  weighted avg       0.84      0.84      0.84      2070\n",
      "\n",
      "\n",
      "Matriz de Confusión:\n"
     ]
    },
    {
     "data": {
      "image/png": "[encoded data removed]",
      "text/plain": [
       "<Figure size 640x480 with 2 Axes>"
      ]
     },
     "metadata": {},
     "output_type": "display_data"
    }
   ],
   "source": [
    "# 1. Random Forest\n",
    "model_rf = RandomForestClassifier(random_state=42)\n",
    "\n",
    "# 2. Entrenamiento \n",
    "print(\"\\n--- Entrenando Modelo: Random Forest ---\")\n",
    "model_rf.fit(X_train, y_train)\n",
    "print(\"Modelo entrenado.\")\n",
    "\n",
    "# 3. Predicciones\n",
    "y_pred_rf = model_rf.predict(X_test)\n",
    "\n",
    "# 4. Evaluacion\n",
    "print(\"\\n--- Evaluación del Modelo: Random Forest ---\")\n",
    "print(\"\\nReporte de Clasificación:\")\n",
    "print(classification_report(y_test, y_pred_rf, target_names=['Permanecen (0)', 'Se Van (1)']))\n",
    "\n",
    "print(\"\\nMatriz de Confusión:\")\n",
    "cm_rf = confusion_matrix(y_test, y_pred_rf)\n",
    "sns.heatmap(cm_rf, annot=True, fmt='d', cmap='Blues', \n",
    "            xticklabels=['Permanecen', 'Se Van'], \n",
    "            yticklabels=['Permanecen', 'Se Van'])\n",
    "plt.title('Matriz de Confusión - Random Forest')\n",
    "plt.ylabel('Etiqueta Real')\n",
    "plt.xlabel('Etiqueta Predicha')\n",
    "plt.show()"
   ]
  },
  {
   "cell_type": "markdown",
   "id": "1180ffcf",
   "metadata": {},
   "source": [
    "### 🎯 3.3. Evaluación de los Modelos\n",
    "\n",
    "**Objetivo**: Realizar un análisis crítico y comparativo del rendimiento de los modelos de `Regresión Logística` y `Random Forest` para seleccionar el más adecuado para el problema de negocio.\n",
    "\n",
    "**Método**: Debo analizarán y comparar las métricas clave (`Exactitud`, `Precisión`, `Recall` y `F1-score`) obtenidas de los reportes de clasificación.\n",
    "\n",
    "**Justificación**: Una comparación estructurada es fundamental para tomar una decisión basada en evidencia."
   ]
  },
  {
   "cell_type": "markdown",
   "id": "f2bb78ba",
   "metadata": {},
   "source": [
    "#### 💡 Análisis Crítico y Comparación\n",
    "\n",
    "1. ***¿Cuál modelo tuvo el mejor desempeño?***\n",
    "\n",
    "* El modelo de Regresión Logística es el ganador, supera al modelo de Regresión Logística en todas las métricas evaluadas:\n",
    "\n",
    "    * Tiene una mayor exactitud general (`84%` vs. `81%`).\n",
    "\n",
    "    * Es más preciso en sus predicciones de churn (`85%` vs. `82%`).\n",
    "\n",
    "    * Y lo más importante, tiene un mayor Recall (`84%` vs. `80%`), lo que significa que es capaz de identificar correctamente al `84%` de todos los clientes que realmente cancelaron el servicio.\n",
    "\n",
    "2. ¿Algún modelo presentó overfitting o underfitting?\n",
    "\n",
    "    * Ambos modelos muestran un rendimiento balanceado en las clases \"`Permanecen`\" y \"`Se Van`\", con métricas `F1-score` muy similares para ambas (`0.81` y `0.81` para `Regresión Logística`, `0.84` y `0.85` para Random Forest). Esto podria demostar que que la estrategia de balanceo con SMOTE fue efectiva y los modelos no están simplemente ignorando a la clase minoritaria.\n",
    "\n",
    "    * El Random Forest obtiene una exactitud del `84%` en el conjunto de prueba, lo que indica que está generalizando bien a datos no vistos. Sin tener la puntuación del conjunto de entrenamiento para comparar, no podemos descartar por completo un leve sobreajuste.\n",
    "\n",
    "**Conclusión de la Evaluación**: El modelo `Random Forest` es superior en todos los aspectos evaluados y es la mejor elección para este problema."
   ]
  },
  {
   "cell_type": "markdown",
   "id": "5de255f8",
   "metadata": {},
   "source": [
    "## 📝 4. Interpretación y Conclusiones"
   ]
  },
  {
   "cell_type": "markdown",
   "id": "cc6802c6",
   "metadata": {},
   "source": [
    "### 🎯 4.1. Análisis de la Importancia de las Variables (Random Forest)\n",
    "\n",
    "**Objetivo**: Identificar y visualizar las características (`features`) que el modelo Random Forest consideró más influyentes para predecir la evasión de clientes.\n",
    "\n",
    "**Método**: \n",
    "\n",
    "1. Accedere al atributo `.feature_importances_` del modelo `model_rf` ya entrenado.\n",
    "\n",
    "2. Creare un DataFrame para asociar cada característica con su puntuación de importancia.\n",
    "\n",
    "3. Hare la visualizacion de las 15 características más importantes utilizando un gráfico de barras horizontal de `Plotly`.\n",
    "\n",
    "**Justificación**: Este paso es fundamental para la interpretabilidad del modelo. Nos permite entender el \"por qué\" detrás de sus predicciones."
   ]
  },
  {
   "cell_type": "code",
   "execution_count": 27,
   "id": "834f38dc",
   "metadata": {},
   "outputs": [
    {
     "data": {
      "application/vnd.plotly.v1+json": {
       "config": {
        "plotlyServerURL": "https://plot.ly"
       },
       "data": [
        {
         "hovertemplate": "Importance=%{x}<br>Feature=%{y}<extra></extra>",
         "legendgroup": "",
         "marker": {
          "color": "#636efa",
          "pattern": {
           "shape": ""
          }
         },
         "name": "",
         "orientation": "h",
         "showlegend": false,
         "textposition": "auto",
         "type": "bar",
         "x": {
          "bdata": "zIkyd6uDwj+b6yDwAFrBP5l951Bhv7s/7hEE4DyGuj+OqCpnN2+4P00nMTD1MaY//WOQHGsgpT9ZP0ar6iagP9xno4Be/58/6WQk7CM4lz+bmS9NWAyVPyqF8QUeUpQ/VqX6SXH/kT/Sc/cAaCaQP4PaHWh8CZA/",
          "dtype": "f8"
         },
         "xaxis": "x",
         "y": [
          "Charges.Total",
          "tenure",
          "Charges.Monthly",
          "PaymentMethod_Electronic check",
          "Cuentas_Diarias",
          "InternetService_Fiber optic",
          "Contract_Two year",
          "Partner",
          "Dependents",
          "gender",
          "MultipleLines_Yes",
          "Contract_One year",
          "PaperlessBilling",
          "PaymentMethod_Credit card (automatic)",
          "StreamingTV_Yes"
         ],
         "yaxis": "y"
        }
       ],
       "layout": {
        "barmode": "relative",
        "legend": {
         "tracegroupgap": 0
        },
        "template": {
         "data": {
          "bar": [
           {
            "error_x": {
             "color": "#2a3f5f"
            },
            "error_y": {
             "color": "#2a3f5f"
            },
            "marker": {
             "line": {
              "color": "#E5ECF6",
              "width": 0.5
             },
             "pattern": {
              "fillmode": "overlay",
              "size": 10,
              "solidity": 0.2
             }
            },
            "type": "bar"
           }
          ],
          "barpolar": [
           {
            "marker": {
             "line": {
              "color": "#E5ECF6",
              "width": 0.5
             },
             "pattern": {
              "fillmode": "overlay",
              "size": 10,
              "solidity": 0.2
             }
            },
            "type": "barpolar"
           }
          ],
          "carpet": [
           {
            "aaxis": {
             "endlinecolor": "#2a3f5f",
             "gridcolor": "white",
             "linecolor": "white",
             "minorgridcolor": "white",
             "startlinecolor": "#2a3f5f"
            },
            "baxis": {
             "endlinecolor": "#2a3f5f",
             "gridcolor": "white",
             "linecolor": "white",
             "minorgridcolor": "white",
             "startlinecolor": "#2a3f5f"
            },
            "type": "carpet"
           }
          ],
          "choropleth": [
           {
            "colorbar": {
             "outlinewidth": 0,
             "ticks": ""
            },
            "type": "choropleth"
           }
          ],
          "contour": [
           {
            "colorbar": {
             "outlinewidth": 0,
             "ticks": ""
            },
            "colorscale": [
             [
              0,
              "#0d0887"
             ],
             [
              0.1111111111111111,
              "#46039f"
             ],
             [
              0.2222222222222222,
              "#7201a8"
             ],
             [
              0.3333333333333333,
              "#9c179e"
             ],
             [
              0.4444444444444444,
              "#bd3786"
             ],
             [
              0.5555555555555556,
              "#d8576b"
             ],
             [
              0.6666666666666666,
              "#ed7953"
             ],
             [
              0.7777777777777778,
              "#fb9f3a"
             ],
             [
              0.8888888888888888,
              "#fdca26"
             ],
             [
              1,
              "#f0f921"
             ]
            ],
            "type": "contour"
           }
          ],
          "contourcarpet": [
           {
            "colorbar": {
             "outlinewidth": 0,
             "ticks": ""
            },
            "type": "contourcarpet"
           }
          ],
          "heatmap": [
           {
            "colorbar": {
             "outlinewidth": 0,
             "ticks": ""
            },
            "colorscale": [
             [
              0,
              "#0d0887"
             ],
             [
              0.1111111111111111,
              "#46039f"
             ],
             [
              0.2222222222222222,
              "#7201a8"
             ],
             [
              0.3333333333333333,
              "#9c179e"
             ],
             [
              0.4444444444444444,
              "#bd3786"
             ],
             [
              0.5555555555555556,
              "#d8576b"
             ],
             [
              0.6666666666666666,
              "#ed7953"
             ],
             [
              0.7777777777777778,
              "#fb9f3a"
             ],
             [
              0.8888888888888888,
              "#fdca26"
             ],
             [
              1,
              "#f0f921"
             ]
            ],
            "type": "heatmap"
           }
          ],
          "histogram": [
           {
            "marker": {
             "pattern": {
              "fillmode": "overlay",
              "size": 10,
              "solidity": 0.2
             }
            },
            "type": "histogram"
           }
          ],
          "histogram2d": [
           {
            "colorbar": {
             "outlinewidth": 0,
             "ticks": ""
            },
            "colorscale": [
             [
              0,
              "#0d0887"
             ],
             [
              0.1111111111111111,
              "#46039f"
             ],
             [
              0.2222222222222222,
              "#7201a8"
             ],
             [
              0.3333333333333333,
              "#9c179e"
             ],
             [
              0.4444444444444444,
              "#bd3786"
             ],
             [
              0.5555555555555556,
              "#d8576b"
             ],
             [
              0.6666666666666666,
              "#ed7953"
             ],
             [
              0.7777777777777778,
              "#fb9f3a"
             ],
             [
              0.8888888888888888,
              "#fdca26"
             ],
             [
              1,
              "#f0f921"
             ]
            ],
            "type": "histogram2d"
           }
          ],
          "histogram2dcontour": [
           {
            "colorbar": {
             "outlinewidth": 0,
             "ticks": ""
            },
            "colorscale": [
             [
              0,
              "#0d0887"
             ],
             [
              0.1111111111111111,
              "#46039f"
             ],
             [
              0.2222222222222222,
              "#7201a8"
             ],
             [
              0.3333333333333333,
              "#9c179e"
             ],
             [
              0.4444444444444444,
              "#bd3786"
             ],
             [
              0.5555555555555556,
              "#d8576b"
             ],
             [
              0.6666666666666666,
              "#ed7953"
             ],
             [
              0.7777777777777778,
              "#fb9f3a"
             ],
             [
              0.8888888888888888,
              "#fdca26"
             ],
             [
              1,
              "#f0f921"
             ]
            ],
            "type": "histogram2dcontour"
           }
          ],
          "mesh3d": [
           {
            "colorbar": {
             "outlinewidth": 0,
             "ticks": ""
            },
            "type": "mesh3d"
           }
          ],
          "parcoords": [
           {
            "line": {
             "colorbar": {
              "outlinewidth": 0,
              "ticks": ""
             }
            },
            "type": "parcoords"
           }
          ],
          "pie": [
           {
            "automargin": true,
            "type": "pie"
           }
          ],
          "scatter": [
           {
            "fillpattern": {
             "fillmode": "overlay",
             "size": 10,
             "solidity": 0.2
            },
            "type": "scatter"
           }
          ],
          "scatter3d": [
           {
            "line": {
             "colorbar": {
              "outlinewidth": 0,
              "ticks": ""
             }
            },
            "marker": {
             "colorbar": {
              "outlinewidth": 0,
              "ticks": ""
             }
            },
            "type": "scatter3d"
           }
          ],
          "scattercarpet": [
           {
            "marker": {
             "colorbar": {
              "outlinewidth": 0,
              "ticks": ""
             }
            },
            "type": "scattercarpet"
           }
          ],
          "scattergeo": [
           {
            "marker": {
             "colorbar": {
              "outlinewidth": 0,
              "ticks": ""
             }
            },
            "type": "scattergeo"
           }
          ],
          "scattergl": [
           {
            "marker": {
             "colorbar": {
              "outlinewidth": 0,
              "ticks": ""
             }
            },
            "type": "scattergl"
           }
          ],
          "scattermap": [
           {
            "marker": {
             "colorbar": {
              "outlinewidth": 0,
              "ticks": ""
             }
            },
            "type": "scattermap"
           }
          ],
          "scattermapbox": [
           {
            "marker": {
             "colorbar": {
              "outlinewidth": 0,
              "ticks": ""
             }
            },
            "type": "scattermapbox"
           }
          ],
          "scatterpolar": [
           {
            "marker": {
             "colorbar": {
              "outlinewidth": 0,
              "ticks": ""
             }
            },
            "type": "scatterpolar"
           }
          ],
          "scatterpolargl": [
           {
            "marker": {
             "colorbar": {
              "outlinewidth": 0,
              "ticks": ""
             }
            },
            "type": "scatterpolargl"
           }
          ],
          "scatterternary": [
           {
            "marker": {
             "colorbar": {
              "outlinewidth": 0,
              "ticks": ""
             }
            },
            "type": "scatterternary"
           }
          ],
          "surface": [
           {
            "colorbar": {
             "outlinewidth": 0,
             "ticks": ""
            },
            "colorscale": [
             [
              0,
              "#0d0887"
             ],
             [
              0.1111111111111111,
              "#46039f"
             ],
             [
              0.2222222222222222,
              "#7201a8"
             ],
             [
              0.3333333333333333,
              "#9c179e"
             ],
             [
              0.4444444444444444,
              "#bd3786"
             ],
             [
              0.5555555555555556,
              "#d8576b"
             ],
             [
              0.6666666666666666,
              "#ed7953"
             ],
             [
              0.7777777777777778,
              "#fb9f3a"
             ],
             [
              0.8888888888888888,
              "#fdca26"
             ],
             [
              1,
              "#f0f921"
             ]
            ],
            "type": "surface"
           }
          ],
          "table": [
           {
            "cells": {
             "fill": {
              "color": "#EBF0F8"
             },
             "line": {
              "color": "white"
             }
            },
            "header": {
             "fill": {
              "color": "#C8D4E3"
             },
             "line": {
              "color": "white"
             }
            },
            "type": "table"
           }
          ]
         },
         "layout": {
          "annotationdefaults": {
           "arrowcolor": "#2a3f5f",
           "arrowhead": 0,
           "arrowwidth": 1
          },
          "autotypenumbers": "strict",
          "coloraxis": {
           "colorbar": {
            "outlinewidth": 0,
            "ticks": ""
           }
          },
          "colorscale": {
           "diverging": [
            [
             0,
             "#8e0152"
            ],
            [
             0.1,
             "#c51b7d"
            ],
            [
             0.2,
             "#de77ae"
            ],
            [
             0.3,
             "#f1b6da"
            ],
            [
             0.4,
             "#fde0ef"
            ],
            [
             0.5,
             "#f7f7f7"
            ],
            [
             0.6,
             "#e6f5d0"
            ],
            [
             0.7,
             "#b8e186"
            ],
            [
             0.8,
             "#7fbc41"
            ],
            [
             0.9,
             "#4d9221"
            ],
            [
             1,
             "#276419"
            ]
           ],
           "sequential": [
            [
             0,
             "#0d0887"
            ],
            [
             0.1111111111111111,
             "#46039f"
            ],
            [
             0.2222222222222222,
             "#7201a8"
            ],
            [
             0.3333333333333333,
             "#9c179e"
            ],
            [
             0.4444444444444444,
             "#bd3786"
            ],
            [
             0.5555555555555556,
             "#d8576b"
            ],
            [
             0.6666666666666666,
             "#ed7953"
            ],
            [
             0.7777777777777778,
             "#fb9f3a"
            ],
            [
             0.8888888888888888,
             "#fdca26"
            ],
            [
             1,
             "#f0f921"
            ]
           ],
           "sequentialminus": [
            [
             0,
             "#0d0887"
            ],
            [
             0.1111111111111111,
             "#46039f"
            ],
            [
             0.2222222222222222,
             "#7201a8"
            ],
            [
             0.3333333333333333,
             "#9c179e"
            ],
            [
             0.4444444444444444,
             "#bd3786"
            ],
            [
             0.5555555555555556,
             "#d8576b"
            ],
            [
             0.6666666666666666,
             "#ed7953"
            ],
            [
             0.7777777777777778,
             "#fb9f3a"
            ],
            [
             0.8888888888888888,
             "#fdca26"
            ],
            [
             1,
             "#f0f921"
            ]
           ]
          },
          "colorway": [
           "#636efa",
           "#EF553B",
           "#00cc96",
           "#ab63fa",
           "#FFA15A",
           "#19d3f3",
           "#FF6692",
           "#B6E880",
           "#FF97FF",
           "#FECB52"
          ],
          "font": {
           "color": "#2a3f5f"
          },
          "geo": {
           "bgcolor": "white",
           "lakecolor": "white",
           "landcolor": "#E5ECF6",
           "showlakes": true,
           "showland": true,
           "subunitcolor": "white"
          },
          "hoverlabel": {
           "align": "left"
          },
          "hovermode": "closest",
          "mapbox": {
           "style": "light"
          },
          "paper_bgcolor": "white",
          "plot_bgcolor": "#E5ECF6",
          "polar": {
           "angularaxis": {
            "gridcolor": "white",
            "linecolor": "white",
            "ticks": ""
           },
           "bgcolor": "#E5ECF6",
           "radialaxis": {
            "gridcolor": "white",
            "linecolor": "white",
            "ticks": ""
           }
          },
          "scene": {
           "xaxis": {
            "backgroundcolor": "#E5ECF6",
            "gridcolor": "white",
            "gridwidth": 2,
            "linecolor": "white",
            "showbackground": true,
            "ticks": "",
            "zerolinecolor": "white"
           },
           "yaxis": {
            "backgroundcolor": "#E5ECF6",
            "gridcolor": "white",
            "gridwidth": 2,
            "linecolor": "white",
            "showbackground": true,
            "ticks": "",
            "zerolinecolor": "white"
           },
           "zaxis": {
            "backgroundcolor": "#E5ECF6",
            "gridcolor": "white",
            "gridwidth": 2,
            "linecolor": "white",
            "showbackground": true,
            "ticks": "",
            "zerolinecolor": "white"
           }
          },
          "shapedefaults": {
           "line": {
            "color": "#2a3f5f"
           }
          },
          "ternary": {
           "aaxis": {
            "gridcolor": "white",
            "linecolor": "white",
            "ticks": ""
           },
           "baxis": {
            "gridcolor": "white",
            "linecolor": "white",
            "ticks": ""
           },
           "bgcolor": "#E5ECF6",
           "caxis": {
            "gridcolor": "white",
            "linecolor": "white",
            "ticks": ""
           }
          },
          "title": {
           "x": 0.05
          },
          "xaxis": {
           "automargin": true,
           "gridcolor": "white",
           "linecolor": "white",
           "ticks": "",
           "title": {
            "standoff": 15
           },
           "zerolinecolor": "white",
           "zerolinewidth": 2
          },
          "yaxis": {
           "automargin": true,
           "gridcolor": "white",
           "linecolor": "white",
           "ticks": "",
           "title": {
            "standoff": 15
           },
           "zerolinecolor": "white",
           "zerolinewidth": 2
          }
         }
        },
        "title": {
         "text": "Top 15 Características Más Importantes para el Modelo (Random Forest)"
        },
        "xaxis": {
         "anchor": "y",
         "domain": [
          0,
          1
         ],
         "title": {
          "text": "Importance"
         }
        },
        "yaxis": {
         "anchor": "x",
         "categoryorder": "total ascending",
         "domain": [
          0,
          1
         ],
         "title": {
          "text": "Feature"
         }
        }
       }
      }
     },
     "metadata": {},
     "output_type": "display_data"
    }
   ],
   "source": [
    "# .feature_importances_\n",
    "importances_rf = model_rf.feature_importances_\n",
    "feature_names_rf = X_train.columns \n",
    "\n",
    "# DataFrame para la visualización\n",
    "feature_importance_df_rf = pd.DataFrame({'Feature': feature_names_rf, 'Importance': importances_rf})\n",
    "\n",
    "# Top 15\n",
    "feature_importance_df_rf = feature_importance_df_rf.sort_values(by='Importance', ascending=False).head(15)\n",
    "\n",
    "# Gráfico de barras\n",
    "fig = px.bar(feature_importance_df_rf,\n",
    "             x='Importance',\n",
    "             y='Feature',\n",
    "             orientation='h',\n",
    "             title='Top 15 Características Más Importantes para el Modelo (Random Forest)')\n",
    "fig.update_layout(yaxis={'categoryorder':'total ascending'}) # Ordena las barras de menor a mayor\n",
    "fig.show()"
   ]
  },
  {
   "cell_type": "markdown",
   "id": "08829b2b",
   "metadata": {},
   "source": [
    "#### 💾 Guardar el modelo final para su futuro uso"
   ]
  },
  {
   "cell_type": "code",
   "execution_count": 28,
   "id": "9b128429",
   "metadata": {},
   "outputs": [
    {
     "name": "stdout",
     "output_type": "stream",
     "text": [
      "Modelo guardado exitosamente con pickle en 'modelo_churn_random_forest.pkl'\n"
     ]
    }
   ],
   "source": [
    "import pickle\n",
    "\n",
    "with open('modelo_churn_random_forest.pkl', 'wb') as file:\n",
    "    pickle.dump(model_rf, file)\n",
    "\n",
    "print(\"Modelo guardado exitosamente con pickle en 'modelo_churn_random_forest.pkl'\")"
   ]
  },
  {
   "cell_type": "markdown",
   "id": "ee02bc14",
   "metadata": {},
   "source": [
    "### 🎯 4.2. Conclusión Final del Proyecto\n",
    "\n",
    "#### ✅ Informe Detallado\n",
    "\n",
    "A lo largo de este proyecto, mi objetivo ha sido desentrañar las causas de la alta tasa de evasión de clientes en Telecom X. Inicié con un conjunto de datos complejo y semi-estructurado, y a través de un riguroso proceso de limpieza, análisis exploratorio y modelado predictivo, he llegado a conclusiones claras y accionables.\n",
    "\n",
    "Este informe final resume los hallazgos más importantes de mi investigación y presenta una serie de recomendaciones estratégicas basadas en la evidencia encontrada en los datos.\n",
    "\n",
    "#### 🗒️ Resumen de Hallazgos: Del Análisis a la Predicción\n",
    "\n",
    "Mi análisis exploratorio inicial (EDA) reveló patrones muy marcados. Identifiqué que factores como el **tipo de contrato**, la **antigüedad del cliente (`tenure`)**, el **tipo de servicio de internet** y el **método de pago** parecían tener una fuerte influencia en la decisión de un cliente de cancelar el servicio.\n",
    "\n",
    "Posteriormente, durante este segunda parte desarrollé un modelo de **Random Forest**, el cual demostró un rendimiento predictivo robusto. Lo más revelador es que el análisis de importancia de variables de este modelo **confirmó cuantitativamente mis hallazgos del EDA**. Las características que el modelo consideró más influyentes para sus predicciones fueron, en orden de importancia:\n",
    "1.  **Gasto Total (`Charges.Total`)** \n",
    "2.  **Antigüedad (`tenure`)**\n",
    "3.  **Gasto Mensual (`Charges.Monthly`)**\n",
    "4.  **Tipo de Contrato (`PaymentMethod_electronic check`)**\n",
    "\n",
    "Esta alineación entre el análisis visual y el resultado del modelo de machine learning me da una gran confianza en la validez de nuestras conclusiones.\n",
    "\n",
    "#### 📈 Rendimiento del Modelo Predictivo\n",
    "\n",
    "El modelo de **Random Forest** que seleccioné demostró ser altamente eficaz. En el conjunto de datos de prueba, alcanzó una **exactitud general del 84%**.\n",
    "\n",
    "Sin embargo, la métrica más importante para nuestro objetivo de negocio es el **Recall** para la clase \"Churn\", que fue del **84%**. Esto significa que, de cada 100 clientes que realmente planean cancelar su servicio, nuestro modelo es capaz de **identificar correctamente a 84 de ellos**. Esta capacidad de detección proactiva es una herramienta muy poderosa para cualquier estrategia de retención.\n",
    "\n",
    "#### 📉 Factores Clave que Afectan la Cancelación\n",
    "\n",
    "Basado en la síntesis del análisis exploratorio y la interpretabilidad del modelo, he identificado tres pilares principales que impulsan la evasión de clientes:\n",
    "\n",
    "1.  **Falta de Compromiso a Largo Plazo**: Este es el factor más fuerte. Los clientes con contratos **Mes a Mes** son, por un amplio margen, los más propensos a irse. La baja antigüedad (`tenure`) es el segundo predictor más importante, lo que refuerza la idea de que los clientes nuevos y sin ataduras son los más volátiles.\n",
    "\n",
    "2.  **Relación Costo-Beneficio del Servicio**: Los clientes con **Fibra Óptica**, a pesar de ser un servicio premium, muestran una alta tasa de evasión, probablemente ligada a un **Gasto Mensual** más elevado. Crucialmente, la falta de servicios de valor añadido como el **Soporte Técnico** y la **Seguridad en Línea** debilita la propuesta de valor y deja a estos clientes más expuestos a la competencia.\n",
    "\n",
    "3.  **Fricción en los Procesos**: La alta tasa de cancelación entre los usuarios de **Cheque Electrónico** sugiere que los procesos de pago manuales o poco eficientes son un punto de fricción significativo que puede llevar a un cliente a abandonar el servicio.\n",
    "\n",
    "#### 💡 Estrategias de Retención Propuestas\n",
    "\n",
    "Basado en esta evidencia, propongo un plan de acción de tres niveles:\n",
    "\n",
    "1.  **Estrategia Focalizada - \"Ancla al Cliente\"**:\n",
    "    * **Acción**: Lanzar campañas de marketing dirigidas específicamente a los clientes de \"Mes a Mes\" que se encuentran en sus primeros 12 meses de servicio. La oferta debería centrarse en los beneficios de migrar a un contrato de **1 o 2 años**, como una tarifa mensual reducida o la inclusión de un servicio de streaming de forma gratuita.\n",
    "\n",
    "2.  **Estrategia Preventiva - \"Aumenta el Valor Percibido\"**:\n",
    "    * **Acción**: Para todos los nuevos clientes que contraten **Fibra Óptica**, incluir el paquete de **Soporte Técnico** y **Seguridad en Línea** de forma gratuita durante los primeros 3-6 meses. Esto no solo mejora la experiencia inicial, sino que \"engancha\" al cliente a servicios que hemos demostrado que aumentan la retención.\n",
    "\n",
    "3.  **Estrategia Operacional - \"Elimina la Fricción\"**:\n",
    "    * **Acción**: Investigar y rediseñar el flujo de pago con Cheque Electrónico para hacerlo más sencillo. Al mismo tiempo, crear una campaña de incentivos (ej. un pequeño descuento único en la próxima factura) para motivar a los clientes a cambiar a métodos de pago automáticos, como la domiciliación bancaria o la tarjeta de crédito.\n",
    "\n",
    "Este análisis demuestra que la evasión de clientes no es un evento aleatorio, sino un resultado predecible de factores medibles. Con los insights y el modelo predictivo que he desarrollado, Telecom X está ahora en una posición mucho más fuerte para entender, anticipar y reducir la pérdida de sus valiosos clientes."
   ]
  }
 ],
 "metadata": {
  "kernelspec": {
   "display_name": ".venv",
   "language": "python",
   "name": "python3"
  },
  "language_info": {
   "codemirror_mode": {
    "name": "ipython",
    "version": 3
   },
   "file_extension": ".py",
   "mimetype": "text/x-python",
   "name": "python",
   "nbconvert_exporter": "python",
   "pygments_lexer": "ipython3",
   "version": "3.13.7"
  }
 },
 "nbformat": 4,
 "nbformat_minor": 5
}
